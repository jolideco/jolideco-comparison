{
 "cells": [
  {
   "cell_type": "code",
   "execution_count": null,
   "metadata": {},
   "outputs": [],
   "source": [
    "import copy\n",
    "from jolideco.core import MAPDeconvolver\n",
    "from jolideco.models import FluxComponents\n",
    "\n",
    "from utils import read_datasets, stack_datasets\n",
    "import numpy as np\n",
    "from pathlib import Path\n",
    "import yaml\n",
    "\n",
    "RANDOM_STATE = np.random.RandomState(7362)"
   ]
  },
  {
   "cell_type": "code",
   "execution_count": null,
   "metadata": {},
   "outputs": [],
   "source": [
    "PATH = Path(\"./../..\") / \"data\""
   ]
  },
  {
   "cell_type": "code",
   "execution_count": null,
   "metadata": {},
   "outputs": [],
   "source": [
    "bkg_level = \"bg3\"\n",
    "instrument = \"chandra\"\n",
    "scenario = \"aster1\""
   ]
  },
  {
   "cell_type": "code",
   "execution_count": null,
   "metadata": {},
   "outputs": [],
   "source": [
    "filename_config  = PATH.parent / \"config\" / f\"{scenario}/{bkg_level}/{instrument}.yaml\""
   ]
  },
  {
   "cell_type": "code",
   "execution_count": null,
   "metadata": {},
   "outputs": [],
   "source": [
    "def prepare_datasets_jolideco(datasets):\n",
    "    \"\"\"Prepare datasets for jolideco\"\"\"\n",
    "    datasets = copy.deepcopy(datasets)\n",
    "\n",
    "    for dataset in datasets.values():\n",
    "        dataset[\"psf\"] = {\"flux\": dataset[\"psf\"]}\n",
    "\n",
    "    return datasets\n",
    "\n",
    "\n",
    "def get_flux_init(datasets, oversample=10.0):\n",
    "    \"\"\"Get flux init\"\"\"\n",
    "    stacked = stack_datasets(datasets=datasets)\n",
    "\n",
    "    flux = (stacked[\"counts\"] - stacked[\"background\"]) / stacked[\"exposure\"]\n",
    "\n",
    "    flux_mean = np.nanmean(np.clip(flux, 0, np.inf))\n",
    "\n",
    "    flux_init = RANDOM_STATE.gamma(oversample * flux_mean, size=flux.shape) / oversample\n",
    "    return flux_init.astype(np.float32)"
   ]
  },
  {
   "cell_type": "code",
   "execution_count": null,
   "metadata": {},
   "outputs": [],
   "source": [
    "pattern = f\"{instrument}_gauss_fwhm4710_128x128_sim00_{bkg_level}_{scenario}_iter*.fits\"\n",
    "filenames_counts = list(PATH.glob(pattern))"
   ]
  },
  {
   "cell_type": "code",
   "execution_count": null,
   "metadata": {},
   "outputs": [],
   "source": [
    "pattern = f\"{instrument}_gauss_fwhm4710_128x128_psf_33x33.fits\"\n",
    "filenames_psf = [PATH / pattern] * len(filenames_counts)"
   ]
  },
  {
   "cell_type": "code",
   "execution_count": null,
   "metadata": {},
   "outputs": [],
   "source": [
    "datasets = read_datasets(\n",
    "    filenames_counts=filenames_counts,\n",
    "    filenames_psf=filenames_psf,\n",
    ")"
   ]
  },
  {
   "cell_type": "code",
   "execution_count": null,
   "metadata": {},
   "outputs": [],
   "source": [
    "with filename_config.open(\"r\") as fh:\n",
    "    config = yaml.safe_load(fh)\n",
    "\n",
    "config = config[\"runs\"][-2]"
   ]
  },
  {
   "cell_type": "code",
   "execution_count": null,
   "metadata": {},
   "outputs": [],
   "source": [
    "flux_init = get_flux_init(datasets=datasets)\n",
    "\n",
    "if config[\"components\"][\"flux\"].get(\"upsampling_factor\", 1) > 1:\n",
    "    flux_init = flux_init.repeat(2, axis=0).repeat(2, axis=1)\n",
    "\n",
    "config[\"components\"][\"flux\"][\"flux_upsampled\"] = flux_init\n",
    "components = FluxComponents.from_dict(config[\"components\"])\n",
    "\n",
    "deconvolver = MAPDeconvolver(**config[\"deconvolver\"])\n",
    "deconvolver.n_epochs = 500\n",
    "\n",
    "datasets = prepare_datasets_jolideco(datasets=datasets)"
   ]
  },
  {
   "cell_type": "code",
   "execution_count": null,
   "metadata": {},
   "outputs": [],
   "source": [
    "%%time\n",
    "result = deconvolver.run(\n",
    "    datasets=datasets, components=components,\n",
    ")"
   ]
  },
  {
   "cell_type": "code",
   "execution_count": null,
   "metadata": {},
   "outputs": [],
   "source": [
    "import matplotlib.pyplot as plt\n",
    "from astropy.visualization import simple_norm\n",
    "\n",
    "flux = result.components.flux_upsampled_total_numpy\n",
    "norm = simple_norm(flux, stretch=\"asinh\", min_cut=0, max_cut=10, asinh_a=0.01)\n",
    "plt.imshow(flux, origin=\"lower\", norm=norm)"
   ]
  },
  {
   "cell_type": "code",
   "execution_count": null,
   "metadata": {},
   "outputs": [],
   "source": [
    "result.plot_trace_loss()\n",
    "plt.ylim(6, 7)"
   ]
  },
  {
   "cell_type": "code",
   "execution_count": null,
   "metadata": {},
   "outputs": [],
   "source": [
    "\n",
    "print(components)"
   ]
  },
  {
   "cell_type": "code",
   "execution_count": null,
   "metadata": {},
   "outputs": [],
   "source": []
  }
 ],
 "metadata": {
  "kernelspec": {
   "display_name": "jolideco-dev",
   "language": "python",
   "name": "python3"
  },
  "language_info": {
   "codemirror_mode": {
    "name": "ipython",
    "version": 3
   },
   "file_extension": ".py",
   "mimetype": "text/x-python",
   "name": "python",
   "nbconvert_exporter": "python",
   "pygments_lexer": "ipython3",
   "version": "3.9.16"
  },
  "orig_nbformat": 4
 },
 "nbformat": 4,
 "nbformat_minor": 2
}
